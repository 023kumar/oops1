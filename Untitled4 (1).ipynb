{
  "nbformat": 4,
  "nbformat_minor": 0,
  "metadata": {
    "colab": {
      "provenance": []
    },
    "kernelspec": {
      "name": "python3",
      "display_name": "Python 3"
    },
    "language_info": {
      "name": "python"
    }
  },
  "cells": [
    {
      "cell_type": "markdown",
      "source": [
        "1.What is Object-Oriented Programming (OOP)?\n",
        "\n",
        "OOP is a programming paradigm based on the concept of \"objects\", which can contain data (attributes) and code (methods). It helps in organizing complex code by grouping related functions and data together.\n",
        "\n",
        "2.What is a class in OOP?\n",
        "\n",
        "A class is a blueprint for creating objects. It defines the structure and behavior (methods) that its objects will have.\n",
        "\n",
        "3.What is an object in OOP?\n",
        "\n",
        "An object is an instance of a class. It has the class’s properties and can perform actions defined in the class methods.\n",
        "\n",
        "4.Difference between abstraction and encapsulation\n",
        "\n",
        "\n",
        "Abstraction hides implementation details and shows only essential features.\n",
        "\n",
        "Encapsulation binds data and methods into a single unit (class) and restricts direct access to some components.\n",
        "\n",
        "5.What are dunder methods in Python?\n",
        "\n",
        "Dunder (double underscore) methods like __init__, __str__, etc., are special methods used to define how objects behave with built-in functions and operators.\n",
        "\n",
        "6.Explain inheritance in OOP\n",
        "\n",
        "Inheritance allows a class (child) to use the properties and methods of another class (parent). It promotes code reuse.\n",
        "\n",
        "7.What is polymorphism in OOP?\n",
        "\n",
        "Polymorphism allows different classes to define the same method in their own way. It lets us use a unified interface while behaving differently.\n",
        "\n",
        "8.How is encapsulation achieved in Python?\n",
        "\n",
        "By using private variables (__var) and public methods (getters/setters) to control access to the data.\n",
        "\n",
        "9.What is a constructor in Python?\n",
        "\n",
        "A constructor is the __init__ method in Python. It's automatically called when an object is created and is used to initialize attributes.\n",
        "\n",
        "10.What are class and static methods in Python?\n",
        "\n",
        "\n",
        "Class methods use @classmethod and receive cls as the first argument. They work with class-level data.\n",
        "\n",
        "Static methods use @staticmethod and don’t access class or instance data. They are like regular functions within a class.\n",
        "\n",
        "11.What is method overloading in Python?\n",
        "\n",
        "Python doesn't support traditional method overloading but can achieve similar behavior using default arguments or *args/**kwargs.\n",
        "\n",
        "12.What is method overriding in OOP?\n",
        "\n",
        "It means redefining a parent class method in a child class to change its behavior.\n",
        "\n",
        "13.What is a property decorator in Python?\n",
        "\n",
        "@property is used to define getter methods that can be accessed like attributes, allowing controlled access to instance data.\n",
        "\n",
        "14.Why is polymorphism important in OOP?\n",
        "\n",
        "It allows code flexibility and reusability. You can write general code that works with multiple object types.\n",
        "\n",
        "15.What is an abstract class in Python?\n",
        "\n",
        "An abstract class cannot be instantiated directly. It can have abstract methods (declared but not implemented) using the abc module.\n",
        "\n",
        "16.Advantages of OOP\n",
        "\n",
        "\n",
        "Code reuse via inheritance\n",
        "\n",
        "Easier maintenance\n",
        "\n",
        "Real-world modeling\n",
        "\n",
        "Better organization and modularity\n",
        "\n",
        "17.What is multiple inheritance in Python?\n",
        "\n",
        "A class can inherit from more than one parent class. Python handles this with a method resolution order (MRO).\n",
        "\n",
        "18.Difference between class variable and instance variable\n",
        "\n",
        "\n",
        "Class variable is shared among all objects.\n",
        "\n",
        "Instance variable is unique to each object.\n",
        "\n",
        "19.Purpose of __str__ and __repr__ methods\n",
        "\n",
        "_\n",
        "_str__ returns a user-friendly string for print().\n",
        "\n",
        "__repr__ returns a string for developers/debugging.\n",
        "\n",
        "20.Significance of super() function in Python\n",
        "\n",
        "It allows you to call a method from the parent class. Often used in inheritance to access parent methods.\n",
        "\n",
        "21.Significance of __del__ method in Python\n",
        "\n",
        "It’s called when an object is deleted. Used for cleanup tasks, like closing files.\n",
        "\n",
        "22.Difference between @staticmethod and @classmethod\n",
        "\n",
        "\n",
        "@staticmethod: no access to class or instance.\n",
        "\n",
        "@classmethod: has access to class (via cls), but not instance data.\n",
        "\n",
        "23.How does polymorphism work with inheritance?\n",
        "\n",
        "A base class reference can point to child class objects and call their overridden methods.\n",
        "\n",
        "24.What is method chaining in Python OOP?\n",
        "\n",
        "It's calling multiple methods on the same object in one line. Each method returns self.\n",
        "\n",
        "25.Purpose of the __call__ method in Python?\n",
        "\n",
        "It makes an object callable like a function. You can call the object directly using obj()."
      ],
      "metadata": {
        "id": "SWfHh-iP-O_Y"
      }
    },
    {
      "cell_type": "markdown",
      "source": [
        "# New Section"
      ],
      "metadata": {
        "id": "gF2C7rM2DTu3"
      }
    },
    {
      "cell_type": "markdown",
      "source": [
        "Practical Questions\n",
        "\n"
      ],
      "metadata": {
        "id": "2xiGT9Yo-aVC"
      }
    },
    {
      "cell_type": "markdown",
      "source": [
        "1.Animal → Dog (method overriding)\n"
      ],
      "metadata": {
        "id": "etZq3CNGAVTQ"
      }
    },
    {
      "cell_type": "code",
      "source": [
        "class Animal:\n",
        "    def speak(self):\n",
        "        print(\"Some generic sound\")\n",
        "\n",
        "class Dog(Animal):\n",
        "    def speak(self):\n",
        "        print(\"Bark!\")\n"
      ],
      "metadata": {
        "id": "XF4LTVgVAfPK"
      },
      "execution_count": null,
      "outputs": []
    },
    {
      "cell_type": "markdown",
      "source": [
        "2.Abstract class Shape\n",
        "\n"
      ],
      "metadata": {
        "id": "9dIOMu4iApRU"
      }
    },
    {
      "cell_type": "code",
      "source": [
        "from abc import ABC, abstractmethod\n",
        "\n",
        "class Shape(ABC):\n",
        "    @abstractmethod\n",
        "    def area(self):\n",
        "        pass\n",
        "\n",
        "class Circle(Shape):\n",
        "    def __init__(self, radius):\n",
        "        self.radius = radius\n",
        "\n",
        "    def area(self):\n",
        "        return 3.14 * self.radius ** 2\n",
        "\n",
        "class Rectangle(Shape):\n",
        "    def __init__(self, length, width):\n",
        "        self.length = length\n",
        "        self.width = width\n",
        "\n",
        "    def area(self):\n",
        "        return self.length * self.width\n"
      ],
      "metadata": {
        "id": "ERcrqsZkAu9R"
      },
      "execution_count": null,
      "outputs": []
    },
    {
      "cell_type": "markdown",
      "source": [
        "3.Multi-level Inheritance"
      ],
      "metadata": {
        "id": "wtIGD4rNA58x"
      }
    },
    {
      "cell_type": "code",
      "source": [
        "class Vehicle:\n",
        "    def __init__(self, type):\n",
        "        self.type = type\n",
        "\n",
        "class Car(Vehicle):\n",
        "    pass\n",
        "\n",
        "class ElectricCar(Car):\n",
        "    def __init__(self, type, battery):\n",
        "        super().__init__(type)\n",
        "        self.battery = battery\n"
      ],
      "metadata": {
        "id": "Dd2d5qDCA-He"
      },
      "execution_count": null,
      "outputs": []
    },
    {
      "cell_type": "markdown",
      "source": [
        "4.polymorphism with Bird"
      ],
      "metadata": {
        "id": "7ChDPgOUBEb2"
      }
    },
    {
      "cell_type": "code",
      "source": [
        "class Bird:\n",
        "    def fly(self):\n",
        "        print(\"Bird is flying\")\n",
        "\n",
        "class Sparrow(Bird):\n",
        "    def fly(self):\n",
        "        print(\"Sparrow flies high\")\n",
        "\n",
        "class Penguin(Bird):\n",
        "    def fly(self):\n",
        "        print(\"Penguins can't fly\")\n"
      ],
      "metadata": {
        "id": "uuu2AGfNBJbt"
      },
      "execution_count": null,
      "outputs": []
    },
    {
      "cell_type": "markdown",
      "source": [
        "5.Encapsulation with BankAccount"
      ],
      "metadata": {
        "id": "JUtJMsdvBQv6"
      }
    },
    {
      "cell_type": "code",
      "source": [
        "class BankAccount:\n",
        "    def __init__(self):\n",
        "        self.__balance = 0\n",
        "\n",
        "    def deposit(self, amount):\n",
        "        self.__balance += amount\n",
        "\n",
        "    def withdraw(self, amount):\n",
        "        if amount <= self.__balance:\n",
        "            self.__balance -= amount\n",
        "\n",
        "    def get_balance(self):\n",
        "        return self.__balance\n"
      ],
      "metadata": {
        "id": "AIdbn7mQBU-D"
      },
      "execution_count": null,
      "outputs": []
    },
    {
      "cell_type": "markdown",
      "source": [
        "6.Runtime Polymorphism: Instrument"
      ],
      "metadata": {
        "id": "nF-qdUeBBXsv"
      }
    },
    {
      "cell_type": "code",
      "source": [
        "class Instrument:\n",
        "    def play(self):\n",
        "        print(\"Playing instrument\")\n",
        "\n",
        "class Guitar(Instrument):\n",
        "    def play(self):\n",
        "        print(\"Playing Guitar\")\n",
        "\n",
        "class Piano(Instrument):\n",
        "    def play(self):\n",
        "        print(\"Playing Piano\")\n"
      ],
      "metadata": {
        "id": "MFdi9mS2Bbdq"
      },
      "execution_count": null,
      "outputs": []
    },
    {
      "cell_type": "markdown",
      "source": [
        "7.MathOperations with class and static method\n",
        "\n"
      ],
      "metadata": {
        "id": "8pKjEKyYBeHz"
      }
    },
    {
      "cell_type": "code",
      "source": [
        "class MathOperations:\n",
        "    @classmethod\n",
        "    def add_numbers(cls, a, b):\n",
        "        return a + b\n",
        "\n",
        "    @staticmethod\n",
        "    def subtract_numbers(a, b):\n",
        "        return a - b\n"
      ],
      "metadata": {
        "id": "oJNjde3AB0Pt"
      },
      "execution_count": null,
      "outputs": []
    },
    {
      "cell_type": "markdown",
      "source": [
        "8.Count total persons"
      ],
      "metadata": {
        "id": "AWNH0sn9B2uy"
      }
    },
    {
      "cell_type": "code",
      "source": [
        "class Person:\n",
        "    count = 0\n",
        "\n",
        "    def __init__(self):\n",
        "        Person.count += 1\n",
        "\n",
        "    @classmethod\n",
        "    def get_count(cls):\n",
        "        return cls.count\n"
      ],
      "metadata": {
        "id": "6Wgf6zrtB6Uj"
      },
      "execution_count": null,
      "outputs": []
    },
    {
      "cell_type": "markdown",
      "source": [
        "9.Fraction with __str__"
      ],
      "metadata": {
        "id": "4thK0z3FB9It"
      }
    },
    {
      "cell_type": "code",
      "source": [
        "class Fraction:\n",
        "    def __init__(self, num, den):\n",
        "        self.num = num\n",
        "        self.den = den\n",
        "\n",
        "    def __str__(self):\n",
        "        return f\"{self.num}/{self.den}\"\n"
      ],
      "metadata": {
        "id": "pW_wd1sJCBF5"
      },
      "execution_count": null,
      "outputs": []
    },
    {
      "cell_type": "markdown",
      "source": [
        "10.Operator Overloading: Vector"
      ],
      "metadata": {
        "id": "fN00PKoICFcv"
      }
    },
    {
      "cell_type": "code",
      "source": [
        "class Vector:\n",
        "    def __init__(self, x, y):\n",
        "        self.x = x\n",
        "        self.y = y\n",
        "\n",
        "    def __add__(self, other):\n",
        "        return Vector(self.x + other.x, self.y + other.y)\n",
        "\n",
        "    def __str__(self):\n",
        "        return f\"({self.x}, {self.y})\"\n"
      ],
      "metadata": {
        "id": "hce2FQwMCI5y"
      },
      "execution_count": null,
      "outputs": []
    },
    {
      "cell_type": "markdown",
      "source": [
        "11.Person with greet method"
      ],
      "metadata": {
        "id": "ccwK29OPCLmY"
      }
    },
    {
      "cell_type": "code",
      "source": [
        "class Person:\n",
        "    def __init__(self, name, age):\n",
        "        self.name = name\n",
        "        self.age = age\n",
        "\n",
        "    def greet(self):\n",
        "        print(f\"Hello, my name is {self.name} and I am {self.age} years old.\")\n"
      ],
      "metadata": {
        "id": "DoMufD0xCQBy"
      },
      "execution_count": null,
      "outputs": []
    },
    {
      "cell_type": "markdown",
      "source": [
        "12.Student average grade"
      ],
      "metadata": {
        "id": "MkXrB-kCCSmK"
      }
    },
    {
      "cell_type": "code",
      "source": [
        "class Student:\n",
        "    def __init__(self, name, grades):\n",
        "        self.name = name\n",
        "        self.grades = grades\n",
        "\n",
        "    def average_grade(self):\n",
        "        return sum(self.grades) / len(self.grades)\n"
      ],
      "metadata": {
        "id": "Z7_f8m5WCXRf"
      },
      "execution_count": null,
      "outputs": []
    },
    {
      "cell_type": "markdown",
      "source": [
        "13.Rectangle with set_dimensions and area\n",
        "\n"
      ],
      "metadata": {
        "id": "R7Z4Eb9_CaaL"
      }
    },
    {
      "cell_type": "code",
      "source": [
        "class Rectangle:\n",
        "    def set_dimensions(self, length, width):\n",
        "        self.length = length\n",
        "        self.width = width\n",
        "\n",
        "    def area(self):\n",
        "        return self.length * self.width\n"
      ],
      "metadata": {
        "id": "24nqK6IoCf_r"
      },
      "execution_count": null,
      "outputs": []
    },
    {
      "cell_type": "markdown",
      "source": [
        "14.Employee → Manager (inheritance and bonus)\n"
      ],
      "metadata": {
        "id": "qkMpqXtgCi02"
      }
    },
    {
      "cell_type": "code",
      "source": [
        "class Employee:\n",
        "    def calculate_salary(self, hours, rate):\n",
        "        return hours * rate\n",
        "\n",
        "class Manager(Employee):\n",
        "    def calculate_salary(self, hours, rate, bonus):\n",
        "        return super().calculate_salary(hours, rate) + bonus\n"
      ],
      "metadata": {
        "id": "-W6xhbtnCrK-"
      },
      "execution_count": null,
      "outputs": []
    },
    {
      "cell_type": "markdown",
      "source": [
        "15.Product with total_price"
      ],
      "metadata": {
        "id": "dhEKYuDrCwmz"
      }
    },
    {
      "cell_type": "code",
      "source": [
        "class Product:\n",
        "    def __init__(self, name, price, quantity):\n",
        "        self.name = name\n",
        "        self.price = price\n",
        "        self.quantity = quantity\n",
        "\n",
        "    def total_price(self):\n",
        "        return self.price * self.quantity\n"
      ],
      "metadata": {
        "id": "olhAMpBVCyOx"
      },
      "execution_count": null,
      "outputs": []
    },
    {
      "cell_type": "markdown",
      "source": [
        "16.Abstract Animal class"
      ],
      "metadata": {
        "id": "glraGkfQC0yj"
      }
    },
    {
      "cell_type": "code",
      "source": [
        "from abc import ABC, abstractmethod\n",
        "\n",
        "class Animal(ABC):\n",
        "    @abstractmethod\n",
        "    def sound(self):\n",
        "        pass\n",
        "\n",
        "class Cow(Animal):\n",
        "    def sound(self):\n",
        "        print(\"Moo\")\n",
        "\n",
        "class Sheep(Animal):\n",
        "    def sound(self):\n",
        "        print(\"Baa\")\n"
      ],
      "metadata": {
        "id": "um2NrQ76C36h"
      },
      "execution_count": null,
      "outputs": []
    },
    {
      "cell_type": "markdown",
      "source": [
        "17.Book class"
      ],
      "metadata": {
        "id": "rLtGyJozC6u5"
      }
    },
    {
      "cell_type": "code",
      "source": [
        "class Book:\n",
        "    def __init__(self, title, author, year):\n",
        "        self.title = title\n",
        "        self.author = author\n",
        "        self.year = year\n",
        "\n",
        "    def get_book_info(self):\n",
        "        return f\"{self.title} by {self.author}, published in {self.year}\"\n"
      ],
      "metadata": {
        "id": "TJ9LWMw6C-cm"
      },
      "execution_count": null,
      "outputs": []
    },
    {
      "cell_type": "markdown",
      "source": [
        "18.Mansion → House"
      ],
      "metadata": {
        "id": "VPSEmVwiDCIJ"
      }
    },
    {
      "cell_type": "code",
      "source": [
        "class House:\n",
        "    def __init__(self, address, price):\n",
        "        self.address = address\n",
        "        self.price = price\n",
        "\n",
        "class Mansion(House):\n",
        "    def __init__(self, address, price, rooms):\n",
        "        super().__init__(address, price)\n",
        "        self.number_of_rooms = rooms\n"
      ],
      "metadata": {
        "id": "xD1YV40rDFj3"
      },
      "execution_count": null,
      "outputs": []
    }
  ]
}